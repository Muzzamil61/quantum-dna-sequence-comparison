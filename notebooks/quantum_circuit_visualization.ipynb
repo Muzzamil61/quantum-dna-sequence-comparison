{
 "cells": [
  {
   "cell_type": "markdown",
   "metadata": {},
   "source": [
    "# Quantum Circuit Visualization for DNA Sequence Comparisons\n",
    "This notebook provides visualization of quantum circuits created for DNA sequence comparisons using IBM Quantum hardware."
   ]
  },
  {
   "cell_type": "code",
   "metadata": {},
   "source": [
    "from qiskit import QuantumCircuit\n",
    "from qiskit.visualization import plot_circuit_layout\n",
    "from qiskit.visualization import circuit_drawer\n",
    "\n",
    "def draw_circuit(circuit, title):\n",
    "    print(f\"{title} Quantum Circuit:\")\n",
    "    display(circuit_drawer(circuit, output='mpl', fold=-1))\n",
    "\n",
    "# Example of loading a previously created circuit (replace with actual circuits)\n",
    "qc_example = QuantumCircuit(5)\n",
    "qc_example.h(range(5))\n",
    "\n",
    "# Draw the example circuit\n",
    "draw_circuit(qc_example, \"Example DNA Quantum Circuit\")"
   ]
  }
 ],
 "metadata": {
  "kernelspec": {
   "display_name": "Python 3",
   "language": "python",
   "name": "python3"
  },
  "language_info": {
   "name": "python"
  }
 },
 "nbformat": 4,
 "nbformat_minor": 2
}
