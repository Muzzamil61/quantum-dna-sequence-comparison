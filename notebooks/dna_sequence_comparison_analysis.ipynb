{
 "cells": [
  {
   "cell_type": "markdown",
   "metadata": {},
   "source": [
    "# DNA Sequence Comparison Analysis\n",
    "\n",
    "This notebook demonstrates the analysis of DNA sequence comparison using quantum computing techniques, specifically leveraging IBM Quantum's Qiskit framework."
   ]
  },
  {
   "cell_type": "code",
   "execution_count": 1,
   "metadata": {},
   "outputs": [],
   "source": [
    "# Install necessary libraries\n",
    "!pip install qiskit qiskit-aer pylatexenc qiskit-ibm-runtime numpy matplotlib ipywidgets"
   ]
  },
  {
   "cell_type": "code",
   "execution_count": 2,
   "metadata": {},
   "outputs": [],
   "source": [
    "# Import necessary libraries\n",
    "from qiskit import QuantumCircuit, QuantumRegister, ClassicalRegister, transpile\n",
    "from qiskit_ibm_runtime import QiskitRuntimeService, Session, Sampler\n",
    "import numpy as np\n",
    "import matplotlib.pyplot as plt\n",
    "from qiskit.visualization import plot_circuit_layout, circuit_drawer"
   ]
  },
  {
   "cell_type": "code",
   "execution_count": 3,
   "metadata": {},
   "outputs": [],
   "source": [
    "# Connect to IBM Quantum\n",
    "QiskitRuntimeService.save_account(channel=\"ibm_quantum\", token=\"token_here\", overwrite=True)\n",
    "service = QiskitRuntimeService()\n",
    "\n",
    "# Select the backend (ibm_sherbrooke in this case)\n",
    "backend_name = 'ibm_sherbrooke'\n",
    "backend_real = service.get_backend(backend_name)\n",
    "print(f\"Selected backend: {backend_real.name}\")"
   ]
  },
  {
   "cell_type": "code",
   "execution_count": 4,
   "metadata": {},
   "outputs": [],
   "source": [
    "# Encode the DNA sequences as quantum states\n",
    "def encode_dna_sequence(dna_sequence, max_qubits=127):\n",
    "    mapping = {'A': '00', 'T': '01', 'C': '10', 'G': '11'}\n",
    "    binary_sequence = ''.join([mapping[char] for char in dna_sequence])\n",
    "    return binary_sequence[:max_qubits]  # Ensure the sequence is within the qubit limit"
   ]
  },
  {
   "cell_type": "code",
   "execution_count": 5,
   "metadata": {},
   "outputs": [],
   "source": [
    "# Create a quantum circuit based on the encoded DNA sequence\n",
    "def create_dna_circuit(dna_binary_sequence, num_qubits):\n",
    "    qr = QuantumRegister(num_qubits)\n",
    "    cr = ClassicalRegister(num_qubits)\n",
    "    qc = QuantumCircuit(qr, cr)\n",
    "    for i, bit in enumerate(dna_binary_sequence):\n",
    "        if bit == '1':\n",
    "            qc.x(qr[i])\n",
    "    qc.h(qr)  # Apply Hadamard to create superposition\n",
    "    return qc, qr, cr"
   ]
  },
  {
   "cell_type": "code",
   "execution_count": 6,
   "metadata": {},
   "outputs": [],
   "source": [
    "# Calculate the similarity between two quantum states\n",
    "def calculate_similarity(qc1, qc2, qr, cr):\n",
    "    qc = qc1.compose(qc2)  # Create a circuit for overlap comparison\n",
    "    qc.measure(qr, cr)\n",
    "    return qc"
   ]
  },
  {
   "cell_type": "code",
   "execution_count": 7,
   "metadata": {},
   "outputs": [],
   "source": [
    "# Sample DNA sequences\n",
    "YEAST = \"ATCG\" * 32\n",
    "PROTOZOAN = \"ATGC\" * 32\n",
    "BACTERIAL = \"TGCA\" * 32\n",
    "REFERENCE = \"GCTA\" * 32"
   ]
  },
  {
   "cell_type": "code",
   "execution_count": 8,
   "metadata": {},
   "outputs": [],
   "source": [
    "# Encode the sequences\n",
    "encoded_yeast = encode_dna_sequence(YEAST)\n",
    "encoded_protozoan = encode_dna_sequence(PROTOZOAN)\n",
    "encoded_bacterial = encode_dna_sequence(BACTERIAL)\n",
    "encoded_reference = encode_dna_sequence(REFERENCE)"
   ]
  },
  {
   "cell_type": "code",
   "execution_count": 9,
   "metadata": {},
   "outputs": [],
   "source": [
    "# Determine the number of qubits\n",
    "num_qubits = len(encoded_yeast)"
   ]
  },
  {
   "cell_type": "code",
   "execution_count": 10,
   "metadata": {},
   "outputs": [],
   "source": [
    "# Create the DNA quantum circuits\n",
    "qc_yeast, qr_yeast, cr_yeast = create_dna_circuit(encoded_yeast, num_qubits)\n",
    "qc_protozoan, qr_protozoan, cr_protozoan = create_dna_circuit(encoded_protozoan, num_qubits)\n",
    "qc_bacterial, qr_bacterial, cr_bacterial = create_dna_circuit(encoded_bacterial, num_qubits)\n",
    "qc_reference, qr_reference, cr_reference = create_dna_circuit(encoded_reference, num_qubits)"
   ]
  },
  {
   "cell_type": "code",
   "execution_count": 11,
   "metadata": {},
   "outputs": [],
   "source": [
    "# Compare sequences with the reference\n",
    "qc_similarity_yeast = calculate_similarity(qc_yeast, qc_reference, qr_yeast, cr_yeast)\n",
    "qc_similarity_protozoan = calculate_similarity(qc_protozoan, qc_reference, qr_protozoan, cr_protozoan)\n",
    "qc_similarity_bacterial = calculate_similarity(qc_bacterial, qc_reference, qr_bacterial, cr_bacterial)"
   ]
  },
  {
   "cell_type": "code",
   "execution_count": 12,
   "metadata": {},
   "outputs": [],
   "source": [
    "# Transpile circuits for the selected backend\n",
    "qc_similarity_yeast = transpile(qc_similarity_yeast, backend=backend_real)\n",
    "qc_similarity_protozoan = transpile(qc_similarity_protozoan, backend=backend_real)\n",
    "qc_similarity_bacterial = transpile(qc_similarity_bacterial, backend=backend_real)"
   ]
  },
  {
   "cell_type": "code",
   "execution_count": 13,
   "metadata": {},
   "outputs": [],
   "source": [
    "# Use IBMQ Sampler for executing the quantum circuits\n",
    "with Session(backend=backend_real) as session:\n",
    "    sampler = Sampler(session=session)\n",
    "\n",
    "    # Run the sampler\n",
    "    job_yeast = sampler.run([qc_similarity_yeast])\n",
    "    job_protozoan = sampler.run([qc_similarity_protozoan])\n",
    "    job_bacterial = sampler.run([qc_similarity_bacterial])\n",
    "\n",
    "    # Extract results\n",
    "    result_yeast = job_yeast.result()\n",
    "    result_protozoan = job_protozoan.result()\n",
    "    result_bacterial = job_bacterial.result()"
   ]
  },
  {
   "cell_type": "code",
   "execution_count": 14,
   "metadata": {},
   "outputs": [],
   "source": [
    "# Extract BitArrays\n",
    "def extract_bitarray(result):\n",
    "    data = result._pub_results[0].data\n",
    "    for key in data.keys():\n",
    "        if key.startswith('c'):\n",
    "            return data[key]\n",
    "    return None\n",
    "\n",
    "bitarray_yeast = extract_bitarray(result_yeast)\n",
    "bitarray_protozoan = extract_bitarray(result_protozoan)\n",
    "bitarray_bacterial = extract_bitarray(result_bacterial)"
   ]
  },
  {
   "cell_type": "code",
   "execution_count": 15,
   "metadata": {},
   "outputs": [],
   "source": [
    "# Convert BitArray to counts\n",
    "def bitarray_to_counts(bitarray):\n",
    "    return bitarray.get_counts()\n",
    "\n",
    "counts_yeast = bitarray_to_counts(bitarray_yeast)\n",
    "counts_protozoan = bitarray_to_counts(bitarray_protozoan)\n",
    "counts_bacterial = bitarray_to_counts(bitarray_bacterial)"
   ]
  },
  {
   "cell_type": "code",
   "execution_count": 16,
   "metadata": {},
   "outputs": [],
   "source": [
    "# Calculate similarity scores\n",
    "def calculate_similarity_scores(counts):\n",
    "    total = sum(counts.values())\n",
    "    similarities = {key: (value / total) * 100 for key, value in counts.items()}\n",
    "    return similarities\n",
    "\n",
    "similarity_scores_yeast = calculate_similarity_scores(counts_yeast)\n",
    "similarity_scores_protozoan = calculate_similarity_scores(counts_protozoan)\n",
    "similarity_scores_bacterial = calculate_similarity_scores(counts_bacterial)"
   ]
  },
  {
   "cell_type": "code",
   "execution_count": 17,
   "metadata": {},
   "outputs": [],
   "source": [
    "# Visualize similarity scores\n",
    "def plot_similarity_scores(scores, title):\n",
    "    plt.bar(scores.keys(), scores.values())\n",
    "    plt.xlabel('Measurement Outcomes')\n",
    "    plt.ylabel('Similarity Score (%)')\n",
    "    plt.title(title)\n",
    "    plt.show()\n",
    "\n",
    "plot_similarity_scores(similarity_scores_yeast, \"Yeast Similarity Scores\")\n",
    "plot_similarity_scores(similarity_scores_protozoan, \"Protozoan Similarity Scores\")\n",
    "plot_similarity_scores(similarity_scores_bacterial, \"Bacterial Similarity Scores\")"
   ]
  }
 ],
 "metadata": {
  "kernelspec": {
   "display_name": "Python 3",
   "language": "python",
   "name": "python3"
  },
  "language_info": {
   "name": "python",
   "version": "3.8.5"
  }
 },
 "nbformat": 4,
 "nbformat_minor": 5
}
